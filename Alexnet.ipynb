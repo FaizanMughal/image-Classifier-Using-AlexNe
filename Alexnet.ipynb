{
  "nbformat": 4,
  "nbformat_minor": 0,
  "metadata": {
    "colab": {
      "provenance": []
    },
    "kernelspec": {
      "name": "python3",
      "display_name": "Python 3"
    },
    "language_info": {
      "name": "python"
    }
  },
  "cells": [
    {
      "cell_type": "code",
      "source": [
        "import tensorflow as tf\n",
        "from tensorflow.keras import datasets, layers, models\n",
        "from tensorflow.keras.preprocessing.image import ImageDataGenerator\n",
        "import matplotlib.pyplot as plt"
      ],
      "metadata": {
        "id": "6z3oZthSCx2e"
      },
      "execution_count": 1,
      "outputs": []
    },
    {
      "cell_type": "code",
      "source": [
        "# Load CIFAR-10 dataset\n",
        "(train_images, train_labels), (test_images, test_labels) = datasets.cifar10.load_data()\n",
        "\n",
        "# Normalize pixel values to be between 0 and 1\n",
        "train_images, test_images = train_images / 255.0, test_images / 255.0"
      ],
      "metadata": {
        "colab": {
          "base_uri": "https://localhost:8080/"
        },
        "id": "_OmrIX4-C43K",
        "outputId": "cf03c410-b838-46f5-d17e-50d3a4ee2150"
      },
      "execution_count": 2,
      "outputs": [
        {
          "output_type": "stream",
          "name": "stdout",
          "text": [
            "Downloading data from https://www.cs.toronto.edu/~kriz/cifar-10-python.tar.gz\n",
            "170498071/170498071 [==============================] - 3s 0us/step\n"
          ]
        }
      ]
    },
    {
      "cell_type": "code",
      "source": [
        "# Data Augmentation\n",
        "datagen = ImageDataGenerator(\n",
        "    rotation_range=40,\n",
        "    width_shift_range=0.2,\n",
        "    height_shift_range=0.2,\n",
        "    shear_range=0.2,\n",
        "    zoom_range=0.2,\n",
        "    horizontal_flip=True,\n",
        "    fill_mode='nearest'\n",
        ")\n"
      ],
      "metadata": {
        "id": "Sj0G6WVADJpl"
      },
      "execution_count": 4,
      "outputs": []
    },
    {
      "cell_type": "code",
      "source": [
        "# Batch Normalization\n",
        "model = models.Sequential()\n",
        "model.add(layers.Conv2D(32, (3, 3), activation='relu', input_shape=(32, 32, 3)))\n",
        "model.add(layers.Lambda(tf.nn.local_response_normalization))\n",
        "model.add(layers.MaxPooling2D((2, 2)))\n",
        "\n",
        "model.add(layers.Conv2D(64, (3, 3), activation='relu'))\n",
        "model.add(layers.Lambda(tf.nn.local_response_normalization))\n",
        "model.add(layers.MaxPooling2D((2, 2)))\n",
        "\n",
        "model.add(layers.Conv2D(64, (3, 3), activation='relu'))\n",
        "model.add(layers.Lambda(tf.nn.local_response_normalization))\n",
        "\n",
        "model.add(layers.Flatten())"
      ],
      "metadata": {
        "id": "NcJTRrWjDNJh"
      },
      "execution_count": 5,
      "outputs": []
    },
    {
      "cell_type": "code",
      "source": [
        "# Dropouts\n",
        "model.add(layers.Dropout(0.5))\n",
        "model.add(layers.Dense(64, activation='relu'))\n",
        "model.add(layers.Dropout(0.5))\n",
        "model.add(layers.Dense(10))"
      ],
      "metadata": {
        "id": "vdCo2iANDQ9L"
      },
      "execution_count": 6,
      "outputs": []
    },
    {
      "cell_type": "code",
      "source": [
        "# Model summary\n",
        "model.summary()"
      ],
      "metadata": {
        "colab": {
          "base_uri": "https://localhost:8080/"
        },
        "id": "p0LGo4QQDXfT",
        "outputId": "f84a231d-4d30-4888-bc2c-9298acf04cd6"
      },
      "execution_count": 7,
      "outputs": [
        {
          "output_type": "stream",
          "name": "stdout",
          "text": [
            "Model: \"sequential\"\n",
            "_________________________________________________________________\n",
            " Layer (type)                Output Shape              Param #   \n",
            "=================================================================\n",
            " conv2d (Conv2D)             (None, 30, 30, 32)        896       \n",
            "                                                                 \n",
            " lambda (Lambda)             (None, 30, 30, 32)        0         \n",
            "                                                                 \n",
            " max_pooling2d (MaxPooling2  (None, 15, 15, 32)        0         \n",
            " D)                                                              \n",
            "                                                                 \n",
            " conv2d_1 (Conv2D)           (None, 13, 13, 64)        18496     \n",
            "                                                                 \n",
            " lambda_1 (Lambda)           (None, 13, 13, 64)        0         \n",
            "                                                                 \n",
            " max_pooling2d_1 (MaxPoolin  (None, 6, 6, 64)          0         \n",
            " g2D)                                                            \n",
            "                                                                 \n",
            " conv2d_2 (Conv2D)           (None, 4, 4, 64)          36928     \n",
            "                                                                 \n",
            " lambda_2 (Lambda)           (None, 4, 4, 64)          0         \n",
            "                                                                 \n",
            " flatten (Flatten)           (None, 1024)              0         \n",
            "                                                                 \n",
            " dropout (Dropout)           (None, 1024)              0         \n",
            "                                                                 \n",
            " dense (Dense)               (None, 64)                65600     \n",
            "                                                                 \n",
            " dropout_1 (Dropout)         (None, 64)                0         \n",
            "                                                                 \n",
            " dense_1 (Dense)             (None, 10)                650       \n",
            "                                                                 \n",
            "=================================================================\n",
            "Total params: 122570 (478.79 KB)\n",
            "Trainable params: 122570 (478.79 KB)\n",
            "Non-trainable params: 0 (0.00 Byte)\n",
            "_________________________________________________________________\n"
          ]
        }
      ]
    },
    {
      "cell_type": "code",
      "source": [
        "# Compile the model\n",
        "model.compile(optimizer='adam',\n",
        "              loss=tf.keras.losses.SparseCategoricalCrossentropy(from_logits=True),\n",
        "              metrics=['accuracy'])"
      ],
      "metadata": {
        "id": "FTYSR66ODav7"
      },
      "execution_count": 8,
      "outputs": []
    },
    {
      "cell_type": "code",
      "source": [
        "# Fit the model with data augmentation\n",
        "history = model.fit(datagen.flow(train_images, train_labels, batch_size=32),\n",
        "                    steps_per_epoch=len(train_images) / 32,  # Adjust as needed\n",
        "                    epochs=10,\n",
        "                    validation_data=(test_images, test_labels))"
      ],
      "metadata": {
        "colab": {
          "base_uri": "https://localhost:8080/"
        },
        "id": "vqPir3TMDfPt",
        "outputId": "ac83101a-1841-4e77-8e0c-825d9b49ff04"
      },
      "execution_count": 9,
      "outputs": [
        {
          "output_type": "stream",
          "name": "stdout",
          "text": [
            "Epoch 1/10\n",
            "1562/1562 [==============================] - 137s 87ms/step - loss: 1.9911 - accuracy: 0.1069 - val_loss: 1.6609 - val_accuracy: 0.0913\n",
            "Epoch 2/10\n",
            "1562/1562 [==============================] - 147s 94ms/step - loss: 1.8305 - accuracy: 0.1000 - val_loss: 1.5744 - val_accuracy: 0.0858\n",
            "Epoch 3/10\n",
            "1562/1562 [==============================] - 140s 90ms/step - loss: 1.7523 - accuracy: 0.0957 - val_loss: 1.4395 - val_accuracy: 0.0522\n",
            "Epoch 4/10\n",
            "1562/1562 [==============================] - 135s 86ms/step - loss: 1.7034 - accuracy: 0.0916 - val_loss: 1.5112 - val_accuracy: 0.0594\n",
            "Epoch 5/10\n",
            "1562/1562 [==============================] - 133s 85ms/step - loss: 1.6834 - accuracy: 0.0920 - val_loss: 1.4899 - val_accuracy: 0.1023\n",
            "Epoch 6/10\n",
            "1562/1562 [==============================] - 141s 90ms/step - loss: 1.6443 - accuracy: 0.0916 - val_loss: 1.3881 - val_accuracy: 0.0783\n",
            "Epoch 7/10\n",
            "1562/1562 [==============================] - 136s 87ms/step - loss: 1.6277 - accuracy: 0.0926 - val_loss: 1.3534 - val_accuracy: 0.0832\n",
            "Epoch 8/10\n",
            "1562/1562 [==============================] - 133s 85ms/step - loss: 1.6060 - accuracy: 0.0910 - val_loss: 1.3516 - val_accuracy: 0.0950\n",
            "Epoch 9/10\n",
            "1562/1562 [==============================] - 134s 86ms/step - loss: 1.5953 - accuracy: 0.0907 - val_loss: 1.3718 - val_accuracy: 0.0722\n",
            "Epoch 10/10\n",
            "1562/1562 [==============================] - 133s 85ms/step - loss: 1.5764 - accuracy: 0.0910 - val_loss: 1.3139 - val_accuracy: 0.0829\n"
          ]
        }
      ]
    },
    {
      "cell_type": "code",
      "execution_count": 10,
      "metadata": {
        "colab": {
          "base_uri": "https://localhost:8080/"
        },
        "id": "wXj0OSgDCHXr",
        "outputId": "ab305e95-df51-41be-8573-c15562f9489a"
      },
      "outputs": [
        {
          "output_type": "stream",
          "name": "stdout",
          "text": [
            "313/313 - 6s - loss: 1.3139 - accuracy: 0.0829 - 6s/epoch - 19ms/step\n",
            "Test accuracy: 0.08290000259876251\n"
          ]
        }
      ],
      "source": [
        "# Evaluate the model on the test set\n",
        "test_loss, test_acc = model.evaluate(test_images, test_labels, verbose=2)\n",
        "print(\"Test accuracy:\", test_acc)\n"
      ]
    },
    {
      "cell_type": "code",
      "source": [],
      "metadata": {
        "id": "TagaofsuJdrb"
      },
      "execution_count": null,
      "outputs": []
    }
  ]
}